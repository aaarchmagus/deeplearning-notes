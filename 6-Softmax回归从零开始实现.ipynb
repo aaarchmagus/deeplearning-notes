{
 "cells": [
  {
   "cell_type": "code",
   "execution_count": 13,
   "metadata": {},
   "outputs": [],
   "source": [
    "import torch\n",
    "#from Ipython import display\n",
    "from d2l import torch as d2l\n",
    "\n",
    "batch_size = 256   #每次读取256张图片\n",
    "train_iter,test_iter = d2l.load_data_fashion_mnist(batch_size)   #训练集和测试集\n"
   ]
  },
  {
   "cell_type": "code",
   "execution_count": 14,
   "metadata": {},
   "outputs": [],
   "source": [
    "#个样本都是的图像。 展平每个图像，把它们看作长度为784的向量\n",
    "#数据集有10个类别，所以网络输出维度为10。 因此，权重将构成一个784X10的矩阵， 偏置将构成一个1X10的行向量\n",
    "num_inputs = 784\n",
    "num_outputs = 10\n",
    "\n",
    "w = torch.normal(0,0.01,size=(num_inputs,num_outputs),requires_grad=True)   #随机数\n",
    "b = torch.zeros(num_outputs,requires_grad=True)\n"
   ]
  },
  {
   "cell_type": "code",
   "execution_count": 15,
   "metadata": {},
   "outputs": [
    {
     "data": {
      "text/plain": [
       "(tensor([[5., 7., 9.]]),\n",
       " tensor([[ 6.],\n",
       "         [15.]]))"
      ]
     },
     "execution_count": 15,
     "metadata": {},
     "output_type": "execute_result"
    }
   ],
   "source": [
    "#给定一个矩阵，对所有元素求和\n",
    "X = torch.tensor([[1.0,2.0,3.0],[4.0,5.0,6.0]])\n",
    "X.sum(0,keepdim=True),X.sum(1,keepdim=True)   #这里sum（0）是去掉行，就是每一列相加，sum（1）\n",
    "#是去掉列，就是每一行相加"
   ]
  },
  {
   "cell_type": "code",
   "execution_count": 16,
   "metadata": {},
   "outputs": [],
   "source": [
    "#实现Softmax，这里的x是矩阵，所以对x的每一行做sofemax\n",
    "def softmax(X):\n",
    "    X_exp = torch.exp(X)  #对每一个元素做指数运算\n",
    "    #这里的X参数代入的就是O，O=wx+b\n",
    "    partition = X_exp.sum(1,keepdim=True) #对每一行的幂求和，按维度为1\n",
    "    return X_exp / partition     #这里应用了广播机制，对每一行相对的去除以，不够的自动补齐，生成一个向量\n",
    "\n"
   ]
  },
  {
   "cell_type": "code",
   "execution_count": 53,
   "metadata": {},
   "outputs": [
    {
     "data": {
      "text/plain": [
       "tensor([[-1.2206,  0.7038,  0.2594, -0.6951, -3.4736],\n",
       "        [-0.8395, -1.3028, -1.2051, -1.0631,  0.3856]])"
      ]
     },
     "execution_count": 53,
     "metadata": {},
     "output_type": "execute_result"
    }
   ],
   "source": [
    "#验证\n",
    "X = torch.normal(0,1,(2,5))   #随机的均值为0，方差为1的2行5列的矩阵\n",
    "X"
   ]
  },
  {
   "cell_type": "code",
   "execution_count": 54,
   "metadata": {},
   "outputs": [
    {
     "data": {
      "text/plain": [
       "tensor([[0.0712, 0.4879, 0.3129, 0.1205, 0.0075],\n",
       "        [0.1532, 0.0964, 0.1063, 0.1225, 0.5216]])"
      ]
     },
     "execution_count": 54,
     "metadata": {},
     "output_type": "execute_result"
    }
   ],
   "source": [
    "X_prob = softmax(X)   #这里X是一个2X5矩阵，代入后生成的是\n",
    "X_prob"
   ]
  },
  {
   "cell_type": "code",
   "execution_count": 55,
   "metadata": {},
   "outputs": [
    {
     "data": {
      "text/plain": [
       "tensor([1., 1.])"
      ]
     },
     "execution_count": 55,
     "metadata": {},
     "output_type": "execute_result"
    }
   ],
   "source": [
    "X_prob.sum(1)"
   ]
  },
  {
   "cell_type": "code",
   "execution_count": 18,
   "metadata": {},
   "outputs": [],
   "source": [
    "#实现softmax回归模型\n",
    "def net(X):\n",
    "    return softmax(torch.matmul(X.reshape((-1,w.shape[0])),w) + b)\n",
    "    #使用reshape函数将每张原始图像展平为向量,,,,,-1是指由torch自己去计算\n",
    "    #这里的X是后面要输入的数据\n",
    "    # X本身是3维（，，，）向量，这里改成2维，shape【0】是指w的行数，shape[1]是指列数\n",
    "    #这里的w的行数是784\n",
    "    #x变成一个256X784的矩阵\n",
    "    #再对x和w进行矩阵乘法，再加上b   有广播机制\n",
    "    #获得一个256X10的矩阵\n",
    "    #再softmax，拿到所有元素值大于0，行为1 的输出。\n"
   ]
  },
  {
   "cell_type": "code",
   "execution_count": 20,
   "metadata": {},
   "outputs": [
    {
     "data": {
      "text/plain": [
       "tensor([0.1000, 0.5000])"
      ]
     },
     "execution_count": 20,
     "metadata": {},
     "output_type": "execute_result"
    }
   ],
   "source": [
    "#定义交叉熵损失函数\n",
    "#测试：拿出预测值\n",
    "y = torch.tensor([0,2])   #测试：假设的真实值，，y代表的是样本，总共有2个样本，采用独热编码，非0的那一个元素为真实值\n",
    "y_hat = torch.tensor([[0.1,0.3,0.6],[0.3,0.2,0.5]])   #测试：假设的预测值\n",
    "y_hat[[0,1],[0,2]]   #这里的[0,2]就是y，意思是拿出y_hat中第0行0列和第1行2列的元素"
   ]
  },
  {
   "cell_type": "code",
   "execution_count": 29,
   "metadata": {},
   "outputs": [
    {
     "data": {
      "text/plain": [
       "range(0, 2)"
      ]
     },
     "execution_count": 29,
     "metadata": {},
     "output_type": "execute_result"
    }
   ],
   "source": [
    "len(y_hat)\n",
    "range(2)"
   ]
  },
  {
   "cell_type": "code",
   "execution_count": 32,
   "metadata": {},
   "outputs": [
    {
     "data": {
      "text/plain": [
       "tensor([-2.3026, -0.6931])"
      ]
     },
     "execution_count": 32,
     "metadata": {},
     "output_type": "execute_result"
    }
   ],
   "source": [
    "torch.log(y_hat[[0,1],[0,2]])"
   ]
  },
  {
   "cell_type": "code",
   "execution_count": 26,
   "metadata": {},
   "outputs": [
    {
     "data": {
      "text/plain": [
       "tensor([2.3026, 0.6931])"
      ]
     },
     "execution_count": 26,
     "metadata": {},
     "output_type": "execute_result"
    }
   ],
   "source": [
    "#实现交叉熵损失函数\n",
    "def cross_entropy(y_hat,y):\n",
    "    return -torch.log(y_hat[range(len(y_hat)),y])\n",
    "    \n",
    "    #y_hat是预测值，y是真实值\n",
    "    #首先取len（y_hat)，y_hat的长度，就是取0到 n的向量\n",
    "    #然后取对应真实标号的预测值，\n",
    "\n",
    "cross_entropy(y_hat,y)  #y_hat是2X3的预测值，y是长为2的向量\n"
   ]
  },
  {
   "cell_type": "markdown",
   "metadata": {},
   "source": [
    "#将预测类别与真实y元素进行比较\n",
    "def accuracy(y_hat,y):\n",
    "    #计算预测正确的数量\n",
    "    if len(y_hat.shape) > 1 and y_hat.shape[1] > 1:   #如果y_hat的维度是2，列数大于1的时候\n",
    "        y_hat = y_hat.argmax(axis = 1)   #找每一行元素最大的那个下标\n",
    "    cmp = y_hat.type(y.dtype) == y     #y_hat转成y的数据类型，cmp是布尔类型的向量\n",
    "    return float(cmp.type(y.dtype).sum())  #cmp是布尔向量，所以要求和\n",
    "\n",
    "accuracy(y_hat,y) / len(y)\n"
   ]
  },
  {
   "cell_type": "code",
   "execution_count": 47,
   "metadata": {},
   "outputs": [],
   "source": [
    "class Accumulator:  #@save\n",
    "    \"\"\"在n个变量上累加\"\"\"\n",
    "    def __init__(self, n):\n",
    "        self.data = [0.0] * n\n",
    "\n",
    "    def add(self, *args):\n",
    "        self.data = [a + float(b) for a, b in zip(self.data, args)]\n",
    "\n",
    "    def reset(self):\n",
    "        self.data = [0.0] * len(self.data)\n",
    "\n",
    "    def __getitem__(self, idx):\n",
    "        return self.data[idx]"
   ]
  },
  {
   "cell_type": "code",
   "execution_count": 51,
   "metadata": {},
   "outputs": [],
   "source": [
    "#评估任意模型的准确率---就是计算模型在数据迭代器上的精度\n",
    "\n",
    "def evaluate_accuracy(net,data_iter):\n",
    "    #计算在制定数据集上模型的精度\n",
    "    if isinstance(net,torch.nn.Module):\n",
    "        net.eval()   #将模型设置为评估模式\n",
    "    metric = Accumulator(2)   #正确预测数、预测总数\n",
    "    for X,y in data_iter:   #data_iter-----迭代器，从迭代器中一次取出X,y\n",
    "        metric.add(accuracy(net(X),y),y.numel())   #accuracy(net(X),y)--预测正确的样本数，，y.numel()样本总数\n",
    "    return metric[0] / metric[1]   #分类正确的样本数/总样本数 = 精度"
   ]
  },
  {
   "cell_type": "code",
   "execution_count": 52,
   "metadata": {},
   "outputs": [
    {
     "data": {
      "text/plain": [
       "0.1175"
      ]
     },
     "execution_count": 52,
     "metadata": {},
     "output_type": "execute_result"
    }
   ],
   "source": [
    "\n",
    "evaluate_accuracy(net, test_iter) #这里的test_iter--测试迭代器是torch自带的"
   ]
  },
  {
   "cell_type": "code",
   "execution_count": null,
   "metadata": {},
   "outputs": [],
   "source": [
    "#softmax回归的训练\n",
    "def train_epoch_ch3(net,train_iter,loss,updater):\n",
    "    if isinstance(net,torch.nn.Module):\n",
    "        net.train()\n",
    "    metric = Accumulator(3)\n",
    "    for X,y in train_iter:\n",
    "        y_hat = net(X)\n",
    "        l = loss(y_hat,y)\n",
    "        if isinstance(updater,torch.optim.Optimizer):\n",
    "            updater.zero_grad()\n",
    "            l.backward()\n",
    "            updater.step()\n",
    "            metric.add(\n",
    "                float(l)*len(y),accuracy(y_hat,y),\n",
    "                y.size().numel()\n",
    "            )\n",
    "        else:\n",
    "            l.sum().backward()\n",
    "            updater(X.shape[0])\n",
    "            metric.add(float(l.sum()),accuracy(y_hat,y))\n",
    "    return metric[0] / metric[]"
   ]
  }
 ],
 "metadata": {
  "kernelspec": {
   "display_name": "Python 3.9.13 ('dl')",
   "language": "python",
   "name": "python3"
  },
  "language_info": {
   "codemirror_mode": {
    "name": "ipython",
    "version": 3
   },
   "file_extension": ".py",
   "mimetype": "text/x-python",
   "name": "python",
   "nbconvert_exporter": "python",
   "pygments_lexer": "ipython3",
   "version": "3.9.13"
  },
  "orig_nbformat": 4,
  "vscode": {
   "interpreter": {
    "hash": "1401a5e83bce355e9f81865f4960702dc6cc7245833f24ce626bb26f0a1064ae"
   }
  }
 },
 "nbformat": 4,
 "nbformat_minor": 2
}
