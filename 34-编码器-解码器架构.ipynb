{
 "cells": [
  {
   "cell_type": "code",
   "execution_count": 1,
   "metadata": {},
   "outputs": [],
   "source": [
    "from torch import nn\n",
    "\n",
    "\n",
    "#@save\n",
    "class Encoder(nn.Module):\n",
    "    \"\"\"编码器-解码器架构的基本编码器接口\"\"\"\n",
    "\n",
    "    #*args称之为Non-keyword Variable Arguments，无关键字参数；\n",
    "\n",
    "# **kwargs称之为keyword Variable Arguments，有关键字参数；\n",
    "\n",
    "# 当函数中以列表或者元组的形式传参时，就要使用*args；\n",
    "\n",
    "# 当传入字典形式的参数时，就要使用**kwargs。\n",
    "\n",
    "# *args示例：\n",
    "\n",
    "# 当位置参数与不定长参数一起使用时，先把参数分配给位置参数再将多余的参数以元组形式分配给args：\n",
    "    def __init__(self, **kwargs):\n",
    "        super(Encoder, self).__init__(**kwargs) \n",
    "        #super() 函数是用于调用父类的一个方法。\n",
    "        #super 是用来解决多重继承问题的，直接用类名调用父类方法在使用单继承的时候没问题，\n",
    "\n",
    "    def forward(self, X, *args):\n",
    "        raise NotImplementedError  #raise NotImplementedError的使用感觉很类似于C#中虚函数的效果，\n",
    "                                    #它的意思是如果这个方法没有被子类重写，但是调用了，就会报错。"
   ]
  },
  {
   "cell_type": "code",
   "execution_count": 2,
   "metadata": {},
   "outputs": [],
   "source": [
    "#解码器\n",
    "#@save\n",
    "class Decoder(nn.Module):\n",
    "    \"\"\"编码器-解码器架构的基本解码器接口\"\"\"\n",
    "    def __init__(self, **kwargs):\n",
    "        super(Decoder, self).__init__(**kwargs)\n",
    "     \n",
    "\n",
    "     #新增一个init_state函数， 用于将编码器的输出（enc_outputs）转换为编码后的状态\n",
    "    def init_state(self, enc_outputs, *args):\n",
    "        raise NotImplementedError\n",
    "\n",
    "    def forward(self, X, state):\n",
    "        raise NotImplementedError"
   ]
  },
  {
   "cell_type": "code",
   "execution_count": 3,
   "metadata": {},
   "outputs": [],
   "source": [
    "#合并编码器和解码器\n",
    "#@save\n",
    "class EncoderDecoder(nn.Module):\n",
    "    \"\"\"编码器-解码器架构的基类\"\"\"\n",
    "    def __init__(self, encoder, decoder, **kwargs):\n",
    "        super(EncoderDecoder, self).__init__(**kwargs)\n",
    "        self.encoder = encoder\n",
    "        self.decoder = decoder\n",
    "\n",
    "    def forward(self, enc_X, dec_X, *args):\n",
    "        enc_outputs = self.encoder(enc_X, *args)\n",
    "        dec_state = self.decoder.init_state(enc_outputs, *args)\n",
    "        return self.decoder(dec_X, dec_state)"
   ]
  }
 ],
 "metadata": {
  "kernelspec": {
   "display_name": "Python 3.9.13 ('dl2')",
   "language": "python",
   "name": "python3"
  },
  "language_info": {
   "codemirror_mode": {
    "name": "ipython",
    "version": 3
   },
   "file_extension": ".py",
   "mimetype": "text/x-python",
   "name": "python",
   "nbconvert_exporter": "python",
   "pygments_lexer": "ipython3",
   "version": "3.9.13"
  },
  "orig_nbformat": 4,
  "vscode": {
   "interpreter": {
    "hash": "4d6b17bcb8e3f4e1ff577dbac8f34bda451461c90e66713d68da1ebecfd5f830"
   }
  }
 },
 "nbformat": 4,
 "nbformat_minor": 2
}
