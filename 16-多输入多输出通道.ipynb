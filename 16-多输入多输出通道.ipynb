{
 "cells": [
  {
   "cell_type": "code",
   "execution_count": 33,
   "metadata": {},
   "outputs": [],
   "source": [
    "import torch\n",
    "# from d2l import torch as d2l\n",
    "from torch import nn\n",
    "\n",
    "def corr2d(X,K):   #X是输入，，K是核矩阵\n",
    "    #计算二维互相关运算 \n",
    "    h,w = K.shape   #K 的行数和列数\n",
    "    Y = torch.zeros((X.shape[0] - h+1,X.shape[1]-w+1))   #Y--输出的高度和宽度\n",
    "    for i in range(Y.shape[0]):\n",
    "        for j in range (Y.shape[1]):\n",
    "            Y[i,j] = (X[i:i +h,j:j +w] * K).sum()   #X的第i行到第i+h行，第j列到第j+w列   再和K做点积，再求和\n",
    "    return Y\n",
    "#实现多通道的互相关运算\n",
    "def corr2d_multi_in(X,K):\n",
    "    return sum(corr2d(x,k) for x,k in zip(X,K))"
   ]
  },
  {
   "cell_type": "code",
   "execution_count": 10,
   "metadata": {},
   "outputs": [
    {
     "data": {
      "text/plain": [
       "tensor([[ 56.,  72.],\n",
       "        [104., 120.]])"
      ]
     },
     "execution_count": 10,
     "metadata": {},
     "output_type": "execute_result"
    }
   ],
   "source": [
    "#验证互相关运算的输出\n",
    "X = torch.tensor([[[0.0, 1.0, 2.0], [3.0, 4.0, 5.0], [6.0, 7.0, 8.0]],\n",
    "               [[1.0, 2.0, 3.0], [4.0, 5.0, 6.0], [7.0, 8.0, 9.0]]])\n",
    "K = torch.tensor([[[0.0, 1.0], [2.0, 3.0]], [[1.0, 2.0], [3.0, 4.0]]])\n",
    "\n",
    "corr2d_multi_in(X, K)"
   ]
  },
  {
   "cell_type": "code",
   "execution_count": 26,
   "metadata": {},
   "outputs": [
    {
     "data": {
      "text/plain": [
       "torch.Size([3, 3, 3, 3, 3, 3, 3, 3, 3, 3, 3, 3, 3, 3, 3, 3, 2, 2, 2])"
      ]
     },
     "execution_count": 26,
     "metadata": {},
     "output_type": "execute_result"
    }
   ],
   "source": [
    "#计算多个通道的输出的互相关函数\n",
    "def corr2d_multi_in_out(X,K):\n",
    "    return torch.stack([corr2d_multi_in(X,k) for k in K],0)\n",
    "\n",
    "K = torch.stack((K, K + 1, K + 2), 0)\n",
    "K.shape"
   ]
  },
  {
   "cell_type": "code",
   "execution_count": 29,
   "metadata": {},
   "outputs": [
    {
     "data": {
      "text/plain": [
       "torch.Size([3, 2, 2, 2])"
      ]
     },
     "execution_count": 29,
     "metadata": {},
     "output_type": "execute_result"
    }
   ],
   "source": [
    "B = torch.tensor([[[0.0, 1.0], [2.0, 3.0]], [[1.0, 2.0], [3.0, 4.0]]])\n",
    "B = torch.stack((B, B + 1, B + 2), 0)\n",
    "B.shape"
   ]
  },
  {
   "cell_type": "code",
   "execution_count": 30,
   "metadata": {},
   "outputs": [
    {
     "data": {
      "text/plain": [
       "tensor([[[ 56.,  72.],\n",
       "         [104., 120.]],\n",
       "\n",
       "        [[ 76., 100.],\n",
       "         [148., 172.]],\n",
       "\n",
       "        [[ 96., 128.],\n",
       "         [192., 224.]]])"
      ]
     },
     "execution_count": 30,
     "metadata": {},
     "output_type": "execute_result"
    }
   ],
   "source": [
    "corr2d_multi_in_out(X,B)"
   ]
  },
  {
   "cell_type": "code",
   "execution_count": 39,
   "metadata": {},
   "outputs": [],
   "source": [
    "#1X1的卷积等于全连接\n",
    "\n",
    "def corr2d_multi_in_out_1X1(X,B):\n",
    "    c_i,h,w = X.shape\n",
    "    c_o = B.shape[0]\n",
    "    X = X.reshape((c_i,h * w))\n",
    "    B = B.reshape((c_o,c_i))\n",
    "    Y = torch.matmul(B,X)\n",
    "    return Y.reshape((c_o,h,w))\n",
    "\n",
    "X = torch.normal(0, 1, (3, 3, 3))\n",
    "B = torch.normal(0, 1, (2, 3, 1, 1))  #输入是3，输出是2,1X1\n",
    "\n",
    "Y1 = corr2d_multi_in_out_1X1(X, B)\n",
    "Y2 = corr2d_multi_in_out(X, B)\n",
    "assert float(torch.abs(Y1 - Y2).sum()) < 1e-6\n"
   ]
  },
  {
   "cell_type": "code",
   "execution_count": 40,
   "metadata": {},
   "outputs": [],
   "source": [
    "def comp_conv2d(conv2d,X):\n",
    "    X = X.reshape((1,1) + X.shape)\n",
    "    Y = conv2d(X)\n",
    "    return Y.reshape(Y.shape[2:])"
   ]
  }
 ],
 "metadata": {
  "kernelspec": {
   "display_name": "Python 3.9.13 ('dl')",
   "language": "python",
   "name": "python3"
  },
  "language_info": {
   "codemirror_mode": {
    "name": "ipython",
    "version": 3
   },
   "file_extension": ".py",
   "mimetype": "text/x-python",
   "name": "python",
   "nbconvert_exporter": "python",
   "pygments_lexer": "ipython3",
   "version": "3.9.13"
  },
  "orig_nbformat": 4,
  "vscode": {
   "interpreter": {
    "hash": "1401a5e83bce355e9f81865f4960702dc6cc7245833f24ce626bb26f0a1064ae"
   }
  }
 },
 "nbformat": 4,
 "nbformat_minor": 2
}
