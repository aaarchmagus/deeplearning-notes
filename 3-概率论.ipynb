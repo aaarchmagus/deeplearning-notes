{
 "cells": [
  {
   "cell_type": "code",
   "execution_count": 2,
   "metadata": {},
   "outputs": [],
   "source": [
    "#基本概率论\n",
    "\n",
    "import torch\n",
    "from torch.distributions import multinomial\n",
    "#加plt.show()\n"
   ]
  },
  {
   "cell_type": "code",
   "execution_count": 7,
   "metadata": {},
   "outputs": [
    {
     "data": {
      "text/plain": [
       "tensor([1., 0., 0., 0., 0., 0.])"
      ]
     },
     "execution_count": 7,
     "metadata": {},
     "output_type": "execute_result"
    }
   ],
   "source": [
    "fair_probs = torch.ones([6]) / 6\n",
    "fair_probs  #意思是每个元素被取到的概率\n",
    "#multinomial可以根据给定权重对数组进行多次采样，返回采样后的元素下标\n",
    "multinomial.Multinomial(1,fair_probs).sample()  #抽取一个样本，传入一个概率向量\n"
   ]
  },
  {
   "cell_type": "code",
   "execution_count": 8,
   "metadata": {},
   "outputs": [
    {
     "data": {
      "text/plain": [
       "tensor([2., 0., 0., 2., 3., 3.])"
      ]
     },
     "execution_count": 8,
     "metadata": {},
     "output_type": "execute_result"
    }
   ],
   "source": [
    "#同时抽取多个样本\n",
    "multinomial.Multinomial(10, fair_probs).sample()"
   ]
  },
  {
   "cell_type": "code",
   "execution_count": 9,
   "metadata": {},
   "outputs": [
    {
     "data": {
      "text/plain": [
       "tensor([0.1730, 0.1690, 0.1530, 0.1730, 0.1610, 0.1710])"
      ]
     },
     "execution_count": 9,
     "metadata": {},
     "output_type": "execute_result"
    }
   ],
   "source": [
    "# 将结果存储为32位浮点数以进行除法\n",
    "counts = multinomial.Multinomial(1000, fair_probs).sample()\n",
    "counts / 1000  # 相对频率作为估计值"
   ]
  },
  {
   "cell_type": "code",
   "execution_count": 12,
   "metadata": {},
   "outputs": [
    {
     "data": {
      "text/plain": [
       "tensor([[0., 2., 2., 4., 0., 2.],\n",
       "        [2., 2., 1., 1., 4., 0.],\n",
       "        [1., 1., 5., 3., 0., 0.],\n",
       "        ...,\n",
       "        [3., 1., 0., 4., 0., 2.],\n",
       "        [1., 2., 1., 3., 1., 2.],\n",
       "        [2., 0., 3., 1., 4., 0.]])"
      ]
     },
     "execution_count": 12,
     "metadata": {},
     "output_type": "execute_result"
    }
   ],
   "source": [
    "counts = multinomial.Multinomial(10, fair_probs).sample((500,))  #500组，每组抽取10个\n",
    "counts\n"
   ]
  },
  {
   "cell_type": "code",
   "execution_count": 13,
   "metadata": {},
   "outputs": [
    {
     "data": {
      "text/plain": [
       "tensor([[  0.,   2.,   2.,   4.,   0.,   2.],\n",
       "        [  2.,   4.,   3.,   5.,   4.,   2.],\n",
       "        [  3.,   5.,   8.,   8.,   4.,   2.],\n",
       "        ...,\n",
       "        [844., 856., 848., 785., 833., 814.],\n",
       "        [845., 858., 849., 788., 834., 816.],\n",
       "        [847., 858., 852., 789., 838., 816.]])"
      ]
     },
     "execution_count": 13,
     "metadata": {},
     "output_type": "execute_result"
    }
   ],
   "source": [
    "#cumsum这个函数的功能是返回给定axis上的累计和，dim=0，就是0轴上\n",
    "cum_counts = counts.cumsum(dim=0)\n",
    "cum_counts\n"
   ]
  },
  {
   "cell_type": "code",
   "execution_count": 14,
   "metadata": {},
   "outputs": [
    {
     "data": {
      "text/plain": [
       "tensor([[0.0000, 0.2000, 0.2000, 0.4000, 0.0000, 0.2000],\n",
       "        [0.1000, 0.2000, 0.1500, 0.2500, 0.2000, 0.1000],\n",
       "        [0.1000, 0.1667, 0.2667, 0.2667, 0.1333, 0.0667],\n",
       "        ...,\n",
       "        [0.1695, 0.1719, 0.1703, 0.1576, 0.1673, 0.1635],\n",
       "        [0.1693, 0.1719, 0.1701, 0.1579, 0.1671, 0.1635],\n",
       "        [0.1694, 0.1716, 0.1704, 0.1578, 0.1676, 0.1632]])"
      ]
     },
     "execution_count": 14,
     "metadata": {},
     "output_type": "execute_result"
    }
   ],
   "source": [
    "estimates = cum_counts / cum_counts.sum(dim=1, keepdims=True)\n",
    "estimates\n"
   ]
  },
  {
   "cell_type": "code",
   "execution_count": 15,
   "metadata": {},
   "outputs": [
    {
     "ename": "AttributeError",
     "evalue": "module 'torch' has no attribute 'set_figsize'",
     "output_type": "error",
     "traceback": [
      "\u001b[1;31m---------------------------------------------------------------------------\u001b[0m",
      "\u001b[1;31mAttributeError\u001b[0m                            Traceback (most recent call last)",
      "Cell \u001b[1;32mIn [15], line 1\u001b[0m\n\u001b[1;32m----> 1\u001b[0m torch\u001b[38;5;241m.\u001b[39mset_figsize((\u001b[38;5;241m6\u001b[39m, \u001b[38;5;241m4.5\u001b[39m))\n\u001b[0;32m      2\u001b[0m \u001b[38;5;28;01mfor\u001b[39;00m i \u001b[38;5;129;01min\u001b[39;00m \u001b[38;5;28mrange\u001b[39m(\u001b[38;5;241m6\u001b[39m):\n\u001b[0;32m      3\u001b[0m     torch\u001b[38;5;241m.\u001b[39mplt\u001b[38;5;241m.\u001b[39mplot(estimates[:, i]\u001b[38;5;241m.\u001b[39mnumpy(),\n\u001b[0;32m      4\u001b[0m                  label\u001b[38;5;241m=\u001b[39m(\u001b[38;5;124m\"\u001b[39m\u001b[38;5;124mP(die=\u001b[39m\u001b[38;5;124m\"\u001b[39m \u001b[38;5;241m+\u001b[39m \u001b[38;5;28mstr\u001b[39m(i \u001b[38;5;241m+\u001b[39m \u001b[38;5;241m1\u001b[39m) \u001b[38;5;241m+\u001b[39m \u001b[38;5;124m\"\u001b[39m\u001b[38;5;124m)\u001b[39m\u001b[38;5;124m\"\u001b[39m))\n",
      "\u001b[1;31mAttributeError\u001b[0m: module 'torch' has no attribute 'set_figsize'"
     ]
    }
   ],
   "source": [
    "torch.set_figsize((6, 4.5))\n",
    "for i in range(6):\n",
    "    torch.plt.plot(estimates[:, i].numpy(),\n",
    "                 label=(\"P(die=\" + str(i + 1) + \")\"))\n",
    "torch.plt.axhline(y=0.167, color='black', linestyle='dashed')\n",
    "torch.plt.gca().set_xlabel('Groups of experiments')\n",
    "torch.plt.gca().set_ylabel('Estimated probability')\n",
    "torch.plt.legend()\n",
    "plt.show()"
   ]
  },
  {
   "cell_type": "code",
   "execution_count": null,
   "metadata": {},
   "outputs": [],
   "source": []
  }
 ],
 "metadata": {
  "kernelspec": {
   "display_name": "Python 3.9.13 ('dl')",
   "language": "python",
   "name": "python3"
  },
  "language_info": {
   "codemirror_mode": {
    "name": "ipython",
    "version": 3
   },
   "file_extension": ".py",
   "mimetype": "text/x-python",
   "name": "python",
   "nbconvert_exporter": "python",
   "pygments_lexer": "ipython3",
   "version": "3.9.13"
  },
  "orig_nbformat": 4,
  "vscode": {
   "interpreter": {
    "hash": "1401a5e83bce355e9f81865f4960702dc6cc7245833f24ce626bb26f0a1064ae"
   }
  }
 },
 "nbformat": 4,
 "nbformat_minor": 2
}
